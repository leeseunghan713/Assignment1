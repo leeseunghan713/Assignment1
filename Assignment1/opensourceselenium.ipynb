{
 "cells": [
  {
   "cell_type": "code",
   "execution_count": 2,
   "id": "fc407084",
   "metadata": {},
   "outputs": [
    {
     "name": "stdout",
     "output_type": "stream",
     "text": [
      "Collecting selenium\n",
      "  Using cached selenium-4.8.2-py3-none-any.whl (6.9 MB)\n",
      "Requirement already satisfied: certifi>=2021.10.8 in c:\\users\\user\\anaconda3\\lib\\site-packages (from selenium) (2022.9.14)\n",
      "Requirement already satisfied: urllib3[socks]~=1.26 in c:\\users\\user\\anaconda3\\lib\\site-packages (from selenium) (1.26.11)\n",
      "Collecting trio-websocket~=0.9\n",
      "  Using cached trio_websocket-0.10.0-py3-none-any.whl (17 kB)\n",
      "Collecting trio~=0.17\n",
      "  Using cached trio-0.22.0-py3-none-any.whl (384 kB)\n",
      "Collecting exceptiongroup>=1.0.0rc9\n",
      "  Using cached exceptiongroup-1.1.1-py3-none-any.whl (14 kB)\n",
      "Requirement already satisfied: attrs>=19.2.0 in c:\\users\\user\\anaconda3\\lib\\site-packages (from trio~=0.17->selenium) (21.4.0)\n",
      "Collecting async-generator>=1.9\n",
      "  Downloading async_generator-1.10-py3-none-any.whl (18 kB)\n",
      "Requirement already satisfied: sortedcontainers in c:\\users\\user\\anaconda3\\lib\\site-packages (from trio~=0.17->selenium) (2.4.0)\n",
      "Requirement already satisfied: idna in c:\\users\\user\\anaconda3\\lib\\site-packages (from trio~=0.17->selenium) (3.3)\n",
      "Requirement already satisfied: sniffio in c:\\users\\user\\anaconda3\\lib\\site-packages (from trio~=0.17->selenium) (1.2.0)\n",
      "Requirement already satisfied: cffi>=1.14 in c:\\users\\user\\anaconda3\\lib\\site-packages (from trio~=0.17->selenium) (1.15.1)\n",
      "Collecting outcome\n",
      "  Using cached outcome-1.2.0-py2.py3-none-any.whl (9.7 kB)\n",
      "Collecting wsproto>=0.14\n",
      "  Using cached wsproto-1.2.0-py3-none-any.whl (24 kB)\n",
      "Requirement already satisfied: PySocks!=1.5.7,<2.0,>=1.5.6 in c:\\users\\user\\anaconda3\\lib\\site-packages (from urllib3[socks]~=1.26->selenium) (1.7.1)\n",
      "Requirement already satisfied: pycparser in c:\\users\\user\\anaconda3\\lib\\site-packages (from cffi>=1.14->trio~=0.17->selenium) (2.21)\n",
      "Collecting h11<1,>=0.9.0\n",
      "  Using cached h11-0.14.0-py3-none-any.whl (58 kB)\n",
      "Installing collected packages: outcome, h11, exceptiongroup, async-generator, wsproto, trio, trio-websocket, selenium\n",
      "Successfully installed async-generator-1.10 exceptiongroup-1.1.1 h11-0.14.0 outcome-1.2.0 selenium-4.8.2 trio-0.22.0 trio-websocket-0.10.0 wsproto-1.2.0\n"
     ]
    }
   ],
   "source": [
    "!pip install selenium"
   ]
  },
  {
   "cell_type": "code",
   "execution_count": 35,
   "id": "0b5ef810",
   "metadata": {},
   "outputs": [
    {
     "name": "stderr",
     "output_type": "stream",
     "text": [
      "C:\\Users\\user\\AppData\\Local\\Temp\\ipykernel_19016\\971376436.py:8: DeprecationWarning: executable_path has been deprecated, please pass in a Service object\n",
      "  browser = webdriver.Chrome('C:/chromedriver.exe')\n"
     ]
    },
    {
     "name": "stdout",
     "output_type": "stream",
     "text": [
      "삼성전자 갤럭시 Z 플립3 256GB (자급제) 907,940원 https://cr.shopping.naver.com/adcr.nhn?x=3GpUWpKzronGAQ5Fby4tQ%2F%2F%2F%2Fw%3D%3Ds%2FcerFAUWBuj1J3MQB4zdVgsPe5EAwqU8b6U2DQSvcIyWJY%2FSdiJRCRtWY8DC5v9fwiC9l5z3%2BJM5eQy57HJWYS3P8AUwqXCVz6Cir7Yf3ZXWypeOOyGCRLugYcu%2FPUZfr6pyNRpwcCGlG%2Bge5RnPCoBsJjzV%2F3vl5Lmd9HbkUGIBzjQhAf2qZ6USGCNvp3qlOn5dlDjhFPDXwq3adapEZtDnd1NLX0oqsFw%2Byr3ZhNTwyxD4B6rZW1QotqXZPQ2jq4pZA3hvtay1NdVGnhX93YrHsbeStsmJBfOvK7DA6omWZP9Gcxph47jgqW84PK6%2BskROeREM5cydwkrrRUtrQVd%2BqILAG09hjAR1K3qLYkCcuPeIoEaxu99oXPwNzwmJOEXbH%2F%2BfE4djawHTon%2BJeZd51yZEBKLC5DXgKR3KXHrjpyLTBkpnnsMgjqenbU89xPa9%2FusclDw%2Fq8SjZf9SxASOUsn5XB9FZo4Of8WGDEjtdLJ%2Fo%2FIsgpi%2FMzJ4Pc6RPxGAr6XzoVu8yKCXx7V5HAGE2Dqk7%2F7DptJHBb9246SpLpW6L2%2FRzEGdqyz7SxM4c0f9Ps1slxiLjXNVPxmm4AN%2BQsjK6V0FLd%2Fybx7qcubNSE3OzZUT76KyqzckASmm&nvMid=28466086554&catId=50001519\n",
      "갤럭시 Z플립/Z플립2/Z플립3 공기계 266,800원 https://cr.shopping.naver.com/adcr.nhn?x=BinMchHvphSBzUGpYLT0I%2F%2F%2F%2Fw%3D%3DsNEmWRP8sFs%2FM2nP89%2FnmYhlShfdj%2BIomjfN9vgqR0dHNaYL3qY1%2FF455LXXi5iUxLJENJop%2FJLz9UTYl%2FSpEWpcwToitnZe2roSZCAszXzIOI15zQhaVfT5hxvVMcrm%2FZkmY%2FqHs0FHAjrFH9911NI41FVW4KFopfFaQ9bivvWhqzBXWPbtXf%2Bl9pVE572w%2B97fGcKk7IGZUtzQcFE%2FyW8VPqiVaDYWmPzAHPX1OzwMwERe%2F9Q050Or37Kx8w1pe334rL%2BbR36BhYe0R%2FrUmjgBSTS1sRv49oBHxm%2Bxq6HidyCY6x%2F8dPBfBjJrkpthJa8wCLxTcdeTAUPXoHwHUo%2BH3cLmLhVrEvdTfhTTZtWFiKDv%2Btx4d0ReJVsCTMqZj6floCxr2YmZB5oDn58Og6Pjpms%2BW2Ig8WsZMLSsaCFULgvbTs%2FDbQeZQAqfMVRW4lVfVFmCjMNM0LZRiC2BFS5SX6Cuz4J7jaM3L%2BavMe82N0coeZzOjgDgi844SyBF405%2FiL3MWsFcTbnjz%2FZLXrYG9mBs0%2Brk3SRdL8hcAIuxkNXFoG5D805ijRizDHllrEvgXmcEh7RgwwdEn98FjJgau4fTwOUqyF63FjwpQRls%3D&nvMid=37933575492&catId=50000249\n",
      "삼성전자 갤럭시 Z 플립3 256GB (SKT) 1원 https://cr.shopping.naver.com/adcr.nhn?x=0vmlHmpL6zKO1fTbvo9g0P%2F%2F%2Fw%3D%3DsdxzXrfVkFdrVlE6lFhYkK6b8IlSLc0GUCY1o%2BB8YApcRDCQXm2VMgUcLVmMUcHCmJP%2FMXPeXcPekwDbiv2ZmyZcwToitnZe2roSZCAszXzIOI15zQhaVfT5hxvVMcrm%2FhCHGxu%2BQgP1ODHzpZVCdwMOmY27ZGze0Q%2BtXRlM4OxtFSICBvI1ATDFN58yC%2Fe2xB4KtS94wkbn9vgE6XDgV6AzPMI4jsN65jMUucaAE%2Bp2min4YKLHkr2YcUOGbjb6y9wCjNutWi0e%2FtJFfprLgwsHPv45Edr5fvvv%2FlTzZa4XLO3OM0B6R%2BOEZhL95L6MiQGIIY1dxnbwkkVRhT4ow9WQim0uSGV45GygZvcFQrpAGfnhVQMDkURngkW9wrUN5L4tKUlxfPm3SkWW%2FHqLaSEqxorqzO%2BBGjlflcLUedbJrbE6P7Z9AA%2FUwDKpfYUVLO6bt4iifN9E%2BMoapLdB6nk99tbTwjrTDevHL5TYhzmuYvtVWVxZyzmIAm4qhK97LoFc3yYmPu2C55fw9Xgl0uPoLRdeTzJJo5DQ5ovPMjEVwhf3S%2BeevtEs6wRKEwUtDwQJMGCCh1vZ7bTshZc6zW4VsN%2FiAcjmtIwlTUFZwg6A%3D&nvMid=28465715560&catId=50000246\n",
      "갤럭시 Z플립4 /Z플립3 미사용 공기계 새제품 자급제 4G가능 845,000원 https://cr.shopping.naver.com/adcr.nhn?x=XyX%2Bp03Z0kBMkDUThyTy8P%2F%2F%2Fw%3D%3DstRNoD99OzSBkEbCSgU5q%2BDpT8S%2BQ14Us47zXd%2FkwGv3xnU0TxHELmSNRALWf%2Bnov%2BTpm%2FCu7vdp2H5jBwfteFvUW%2B3aNDvtKPSMuNt1cwL3%2BPIzHDaitHEIzZUy3Nppu4TXtqih7SmIi5Bz85QJVnbuVw3GdaDAvxDSjC3cnt2Z%2F22ms%2BW8TiQQNz%2FOHMMFFcQFu00mXmGq44RVFbX75%2BVarkrHMOfFJe8s2lbTpaitVXemfpmeX70wC2wQT5nyi5pxiwDZPU40LYzhHX%2FcRv6eFDaBA%2BcllUszOSjl%2BkIeGo7Kd%2F4mPSuiUr1CWu3NVnuI%2B1Uju%2BRLjWLfBBmiitKJbESRyeRIRPkaERf2zn0dKI194O3yVGRkTAKu5NZTnp2%2FJlznX7XqvmA8xIEnnnYRbcgusFRvjw440t5MFwBceSAT3U%2FAKUdwQbASuiQKyrdrtoPTPa1Fy6PjgwMjRQTm4d2jFTs8RNLgOepflIZBpzuitxqZii%2FdPNVAkpLWDbpe2DfwxbyPyVnR4qTr9YaOuBZD%2FQkGyMe53inOjnLUHYT8WO5oQAJGsF0uZhHwlI0y5VnicKP0Dijxn6xiZs1StRur1X2367gETPvBB4snke%2FVP%2BgM94BPZkP5YJ%2Bex&nvMid=85380278399&catId=50000249\n",
      "삼성 갤럭시 z플립3 z flip1 플립 5g 공기계 오비몰 255,780원 https://cr.shopping.naver.com/adcr.nhn?x=Jq3DjRrVUIOb9i8hOA%2FIzv%2F%2F%2Fw%3D%3Ds4vOpSlRbLDNHomdTqXZRdRhEtE5U9Wkk1srPh1IhCoES3K97ZqkfmpDi9nCw4Z7oKtGUqkhKTXB9H2YIhhs0By3P8AUwqXCVz6Cir7Yf3ZXWypeOOyGCRLugYcu%2FPUZfOH27xorNRo5H3FI%2FzQZg9ESmp7Q8wdkLPOCueq3dcYrHY2FqhFuyNB2JnogfoG85IzRhwyaNFXghZYcx1CysSHIn5UwRuYNSBjgwEL0UOYXNQudJjWIf2K05HYdo8aSay%2F6MHZ6u%2F5n6uuzlUc6JNEuUiTS4CHUtVxQrWeRhExjo8aC3GnP4yGrBumXY%2B6lWJ8CJQmAWGudYalJCKAo8ZIEEwGhxuXoG%2BJrsM3G0TjrqlPy2SYxrgLekLFUQB3UTl7wDtAkFp7DV%2BH2rWwgWs6Wpu%2FgilydwhZuN4GmEglk4D1UPZGgs%2FRpGgOCuZfRtYVLcvM3oTCHQ0%2FljihkQscw50jjyuVk6rMEtVlyU0IuWiedy0hRHy4xhALq1QbCK4P9NHGn1cPDQ7Py%2BQp3EoCmEzheSrB6vooBgHNaQHmfAvO2FpubgxT56JGSWBiPKHiodKGrSwu91%2Fprd9zOWo5y8sARekz3cqx4uaUskJFYNUJgJp6CUXauCvW7Y5AjN&nvMid=36998721757&catId=50000249\n",
      "삼성전자 갤럭시 Z 플립3 256GB (KT) 1원 https://cr.shopping.naver.com/adcr.nhn?x=jun279CZA0LxUzvXU%2Bf8Y%2F%2F%2F%2Fw%3D%3DswTj2vKn31BNEek2Ygp%2BLkmWDdEvAR4mUzbyTKuIwJj8RDCQXm2VMgUcLVmMUcHCm8%2BnbMTrqVxrSDydj669hx5cwToitnZe2roSZCAszXzIOI15zQhaVfT5hxvVMcrm%2FhCHGxu%2BQgP1ODHzpZVCdwMOmY27ZGze0Q%2BtXRlM4OxtFSICBvI1ATDFN58yC%2Fe2xnTKG9AcjrokNs%2F9fMaWBEwzPMI4jsN65jMUucaAE%2Bp2min4YKLHkr2YcUOGbjb6y9wCjNutWi0e%2FtJFfprLgwsHPv45Edr5fvvv%2FlTzZa4XdFUV2jDT%2BNmzcEM3aNwXW2jUYC7eqD9%2BJIDUP%2BR5DzGQim0uSGV45GygZvcFQrpD9b9jpi6zSL9zYiJUqyvbh3ibtGThuycd44FNeS9iJqEqxorqzO%2BBGjlflcLUedbJrbE6P7Z9AA%2FUwDKpfYUVLEdmdoJIshRePuxA7NXGcJqOuInwfQ1XmfH35WvRpRXbDuj2RpMJf6hZY0wq4XOjEj9asY7M%2BCGsK2eKAG8q6mr%2BGBoyQkiFtSLwcV09cBvdDdMC0up4Coaca2raNN0LrTBsl5xTs8gnToXbP74w2Tw4SwcLvxUEucVmH%2BcOht40%3D&nvMid=28464191554&catId=50000247\n",
      "삼성전자 삼성전자 갤럭시 Z플립3 256GB 새제품 미개봉 미개통 407,500원 https://cr.shopping.naver.com/adcr.nhn?x=27YmYyEKDNMnMXMxSjfHpv%2F%2F%2Fw%3D%3DsgdaF%2FbA22yVdK%2FXGuGezQNKYbcaZ%2BLcS%2F%2FMBjzsk8h4RDCQXm2VMgUcLVmMUcHCmiAD3MC25fe7ZV%2FtcBXxmU5cwToitnZe2roSZCAszXzIOI15zQhaVfT5hxvVMcrm%2F6%2BqGbzUPWQMLr%2B9pFAXrw5VPHTMZ%2FdayecNOlr81VlBQTyXfOvCSfTks0sOoDonCLM9wEkW%2B1N5NkY8B6AAqfQ3%2BGhXrKDk5o55fYdTwSvgu3YLw7iC2xbicldGbIFfv5Kl2jVLXNdxHkJe3i8r%2B8NHSipnPgAhukknriMGpylXDDe6f0yZhCo5AswpHhojrP2tfKoQ0NQPyiad34AQ6K9%2FdVvwtcOUlbNrGLU3RUnp9SSvmTQBibMzmxGzadVchhqQvwmR%2FqlT0jQuNbOPrwvTIsB4%2BWOvXa54P7OgxILL%2BqEI4asU28%2FrsdNgAbjICYo1mMw1I3Xq9YraeFhSYkDAMRsdn6rmHTFY5LpSk7PQXjDqDvJE4XjGWZvmddHMRp0OWoqoH4ATZJc8dZhq9nz547jas9CwocIdj6mgHAybxDZLHZAJHOLgrg4ignV9Hb7czQSm20A8cB0swIZJ5EFmLvkfDOr0szpt78duAPT10fSDbPWacYjnpFef5GzFxMqaOMy0iTadePWhHgsGJmbJCKFv7ekkevhfcI46OqntWhZ3SMHTcLlpircdRzUgq1JIslBmdxaTx7xO1%2BPPoWw%3D%3D&nvMid=36698383713&catId=50001519\n",
      "[갤럭시플립4] 갤럭시 Z플립4/Z플립3 256GB 미사용 공기계 새제품 자급제 4G가능 845,000원 https://cr.shopping.naver.com/adcr.nhn?x=dxmctGotwamAGy2eoTtG9v%2F%2F%2Fw%3D%3DscgOAJlG6vd3q04XWO0OQVIonR%2BESa%2Fg0S0a4VCM8EwoRDCQXm2VMgUcLVmMUcHCmAhowigu2WCpHX8MH5sD%2Bk5cwToitnZe2roSZCAszXzIOI15zQhaVfT5hxvVMcrm%2F7DQZRxf7Amn83iAekPJMe7DtRrBsesq4JBoN4C5bR8H0lBFXRBIgqOJ29Jk6Y5C5JT8J%2Femd8Y9CViADDovCvbktlKW%2FmOEgkeBsewrL%2FMPtycEJnvfUVU%2Fuayk8MWSCTGE8Tr5KwBAuntjxBAptOm%2BahAR%2FiJ%2FxHC6yXBxxi3lD4P%2Bj2CVvS6QkrpszyaIoCuwrUM2Vi5bq9fxYHuPhKUjBErhVu0GQ6Z8drZjl0YNbJ28%2BJfyji7Dz%2FwlDGr6b5adVVOd36sZSkwU%2FrusCguZPHx2S4jBg5iJ45vWhOxUmimQIpMuc2leX25Feml2beQGYyL5bSXGo56Mb7i1NXeHgGQFtK5tW%2F1pSUiKFl1pk9S7pMBlrLOEvoebte6RQTlYmDLu7QfeDgfwFPMUmmoFf%2Fx304O5s1QZVmEb4z33akehoEngXEUZ6KEeD5YN6018C%2FvDMVDtlSU8CIoDqqBPj0UuO%2Fo0YuSpcm5JAU8t5Xz7xhdsyKMfMp4HgiNumqIxvFs1quigf6q7s9uaoz8vTtug4vCjEvohqOyQz59kUICyVxFDvApwPWozecWyPYK8%2F7RJ5N69e9dw8NGLD2ctVYavx%2B%2B8fWZa9SBc8rqM%3D&nvMid=36346958297&catId=50000249\n",
      "삼성 갤럭시Z플립3 공기계 무약정 알뜰폰 SM-F711N(256GB)무선충전패드 증정 335,000원 https://cr.shopping.naver.com/adcr.nhn?x=v1ZAI63RRqFSIHn1r7gWjf%2F%2F%2Fw%3D%3DslBD45ICNJ5uyKlrg4pTIWRBa8D%2FD%2Bx16zheonZRzRUgRDCQXm2VMgUcLVmMUcHCmta8FlQS%2Blup1GwVXRu%2Bu1ZcwToitnZe2roSZCAszXzIOI15zQhaVfT5hxvVMcrm%2F7zq3D5L%2FkAB62xQRyZMBB%2F1oQU2TTr8x0QNxu7g2vEONMl1Xp4buzoN%2FPQc0Gr4NcYtdMmCvBtt5pNNCHyDLU70gCyck7NCAFmxyMC5sfR6lBxqAWLBOzqerxr%2F9%2BfPsvRxTIrTqjfjaj5hIRLkGrj7U9isOCsvDdu7nvqDq0VwrLGPKjiSuTDg8Ykn%2B4b8yn%2BMeDHWhQnUvpSyzfNGuNsMN7p%2FTJmEKjkCzCkeGiOs%2Fa18qhDQ1A%2FKJp3fgBDor391W%2FC1w5SVs2sYtTdFSelKxxwfmsqFkYtQmfmVu65Tq69QAUSoAEKi189GHO8cdS25wFKNFGab1Mlgs7bQfmQ7aa0F3UaLuFpe2Q3j0RbX%2FzJRJehl%2FjYBWieoAifhS4NVYwL9%2FTKEW%2FrJA6pP3hNy6KhfLqPLphNrnesVdmv%2Bh35PFv%2Bz9hnLzMgzHNFHQNRf8GcdxVCVy21HSCvhFZ73aWgV8rG3mxwcxvcw2fT%2BbSPU%2BvDxz1JNfsC4CkfL4Blo6%2FlIl6%2F9lA5%2FPR7dBJMhIFoanMhZ34%2Fb1RY1qv2EugiDh5S8n%2B7Rc0MeNuzgdj3bY%2BjNjxwH5k0j%2FcJP3S%2BHGiyFR4JciwMcf5Z7SeOLHICEQpPL7Rm%2B2fyhjEhHR&nvMid=30575274222&catId=50000249\n",
      "갤럭시 Z플립3 미사용 공기계 새제품 풀박스 자급제 F711 662,930원 https://cr.shopping.naver.com/adcr.nhn?x=MvqgvODQvUNmbfpMwBm5jP%2F%2F%2Fw%3D%3Ds6QAtQ%2BowqXcjl%2FbO1KhpHDtfEgu2vP5NpoNQx%2BTOhPTxnU0TxHELmSNRALWf%2BnovIvTLCL%2B4RG5irPcUgmv8ZvUW%2B3aNDvtKPSMuNt1cwL3%2BPIzHDaitHEIzZUy3Nppu7qtc7IxNeTA5vvD%2BkviP0ot2ZA0FpVCmeDurkYF5cmwrsB9LRUriY4ptLC3ROCQurIvFAB3xLu5xaAjmfNLZBo575GGb%2Fu%2FMQfRYjWergBTC%2B4ZEIeEQDiyautkA5Q%2B1MBEXv%2FUNOdDq9%2BysfMNaXt9%2BKy%2Fm0d%2BgYWHtEf61Jo4AUk0tbEb%2BPaAR8Zvsauh40cz8DxLGRwtet%2FJYAImVg2AjSP3gR3LZGXO%2B8RKHD3pcNZN5FF46Jqg7fDWNj5CahGN9RQThTO%2Fj5vSfvCwAhMWRyN8J62vDJ7LyTeP6eIKix%2F8959dEXU8hmkddfSBpYlfLopQBLLVOxypQdnMGREXxjYAJ0AMnnJjtSsCHd%2BKDTv%2BXSswS47%2BFn%2Bzshc97FhcjpwECvkYhIwRukkfOd73kmpy%2FOir1%2FwHQF931wCGmCtUZEb1RBazBTTw9e3fA05%2FiL3MWsFcTbnjz%2FZLXrRIzx0PlqwT7qcaFO8%2F6CwNPu3cKR9li%2F7RBNgg9ZHl%2BkqsXWKVm61N94ta1utcWTUHQIiXcF4qwUXZ2sX76wW8%3D&nvMid=36859541531&catId=50000249\n",
      "KT 신규 번이 기변 갤럭시Z플립3 갤럭시플립3 136,000원 https://cr.shopping.naver.com/adcr.nhn?x=k6Kn1n%2FLqs2celuNqG0ws%2F%2F%2F%2Fw%3D%3Dsmycs0bhIw2uCf2mhRtbh%2Bx20OWU%2FTQINSOIv85ocAdARDCQXm2VMgUcLVmMUcHCmPkg4iSkPiQ%2FrcZGtCunkIpcwToitnZe2roSZCAszXzIOI15zQhaVfT5hxvVMcrm%2F09VLOnZl%2FlyHjsJ354egKQ0gx5k8SwuwJ4sFOgY3d99eBKz9mHGOxZb4fYAV3JrehauPuY8%2FWSuuteNOpiqAAx3a91Bae%2FwNe6izO3hiFoQziN5fw%2B8cSON7VI%2FnLruP%2FixJEMCQ7hH0reqdaNhmZ4nifuON%2BOXJtdcP%2F6YN4VhNoba7RUs%2BPlzg4LoEc5i%2BWv%2F1D0Io7wJWguMHFK57TSAVdAOGxptQe6SJREotCfgHs%2F2PHkpmvWjL2qy1nHubIUWZa9bF6irvH7PgQbjD4BJEr%2B%2Bx%2FPHceOFrQ3VhziNdrU9gBvTOY8XVxGgpGxxd%2FW%2FY6Yus0i%2Fc2IiVKsr24bMIetoYIk9YwmET%2FdXLFU8FH1x71xwE2z3cn61sZPlbdNK50X%2B2ePy6PUJBo9ZgczDuaBYcW8AS%2Bsi0pPn4bsN1ZmF41ksZeCV9jeeqOHhixrjBD7x79nsGgY2EKbEkN3GCd%2F2%2BVG4OG2FF9UnaK4lrWNLxRrWHCJoudYzHCivG4WOkMDepZ2NhJ82w7YLxgpdbeTv2PrQLekNFRD%2BggNoBNCgGhnJoYyA8V4j2ARcNDVCYCaeglF2rgr1u2OQIzQ%3D%3D&nvMid=28468088879&catId=50000247\n",
      "삼성전자 갤럭시 Z 플립3 256GB 445,000원 https://cr.shopping.naver.com/adcr.nhn?x=EkbhXjTxAYDmH8EZwZ%2FM1f%2F%2F%2Fw%3D%3DsbxxJgjtVAZctuz%2BIIN0%2B%2BnsEXS0BrJ3GO8pq4iD%2BYjPxnU0TxHELmSNRALWf%2BnovwFx%2FCYFPCHOZaruGQzIMBvUW%2B3aNDvtKPSMuNt1cwL3%2BPIzHDaitHEIzZUy3Nppu%2F%2Fi0LbOOdvrXqi9CzhVEmoVt7HLC8Wv00PZgURHygt5elejFdkqFTSchcszRHkryp1z%2B%2FRIa%2BHGNyHBno6YhvS3KVw8VaM593TtGSYQCyO68kabI6ilMlZV66Etr3SOtqwkXVMbwNe%2B45dFaHZqJITVCZ4rdk8hPModxsSdH4jz0g9tzGUYPkylTsiKHHv3wIhEaIanRBRjUeAsouMRwtinL8MoZCBGU27EQ5UCoj6k3Z08thLNqo1kjSUn1T6bwzfNVo1KcSVSazeZg7M%2BAaaOqHfujuaOFyprpQ5doBpnH3CzhrgCCaLVMqSTKXkBtaczS8DlwQxdeC2zMOd4HG24SrUui%2F2QE857eYqcthM9R%2B%2FHyGlRapcCFdElgOxBJZTc3SRYJKEdTDi92W%2BhFhTxTCCN75cXc%2Bl5W4mHQ5sXvG16YhhyEtq6rFvrtGyPqV3OdHgSE8LoEjTx9zpNPbFaRsOtQUnaEEbxBoHxZXOc%3D&nvMid=30457830367&catId=50000249\n"
     ]
    },
    {
     "name": "stdout",
     "output_type": "stream",
     "text": [
      "삼성전자 갤럭시 Z 플립3 256GB (LG U+) 10원 https://cr.shopping.naver.com/adcr.nhn?x=2SPNzsIWRvbxSg01T0ELUf%2F%2F%2Fw%3D%3DswlGgSfFuYZuYdmAbpaXIjI3WnkZuft55pCqdV5zSRvuWJY%2FSdiJRCRtWY8DC5v9faKNi16ykPMrmGoYbKrDFNy3P8AUwqXCVz6Cir7Yf3ZXWypeOOyGCRLugYcu%2FPUZfr6pyNRpwcCGlG%2Bge5RnPCoBsJjzV%2F3vl5Lmd9HbkUGIBzjQhAf2qZ6USGCNvp3qlLX0eh%2FH3HsEiJn9d230rEdDnd1NLX0oqsFw%2Byr3ZhNTwyxD4B6rZW1QotqXZPQ2jq4pZA3hvtay1NdVGnhX93YrHsbeStsmJBfOvK7DA6onoJdBguSUa5mqvR4VH6iHuGx4d%2Filh52SsPSzsEbUv0Vd%2BqILAG09hjAR1K3qLYkB4SatL74Rw6tq51DHl%2F0SC18Vuv4X5r7%2FyvjNeYtm0WZd51yZEBKLC5DXgKR3KXHrjpyLTBkpnnsMgjqenbU89VEVt880XZ2LtBKH%2BxAHebKOuInwfQ1XmfH35WvRpRXYrtDLvKpMa0vbBk1X01RpcniNHVv7Z98sXNB6u8W0hj%2FoLRdeTzJJo5DQ5ovPMjEWAeOSUEUgPHp9yfeDhrEGQ8%2BJ814%2Fw1PUDKLAQiNnfu8tVYavx%2B%2B8fWZa9SBc8rqM%3D&nvMid=28465415554&catId=50000248\n",
      "삼성전자 갤럭시 Z플립3 5G SM-F711N 256GB 자급제 색상 선택가능 899,980원 https://cr.shopping.naver.com/adcr.nhn?x=sCRWMKToavBJn1zWhY0a0P%2F%2F%2Fw%3D%3DsKM%2FEp6jswjPVpD0GwtDWjMQbos4NUEtA0bWEJo9uJBqWJY%2FSdiJRCRtWY8DC5v9fu57FdwF3eXCNOKY08aL90i3P8AUwqXCVz6Cir7Yf3ZXWypeOOyGCRLugYcu%2FPUZfLZv14SN9nqHuVEu6XULECua0O2TX7GIDZW3de8vjU8ynOaqdRoWGuPLxXKYt7SpY%2B0sUWRS%2F8SC%2FlIvOC0B1Z92hasrbvazGLtCi4UVSIlOk6v2w9jBqMGR4TTsgYaQnlII%2ByYYqWVu3SSXxcjEJdKccKW35K1NTfEUnYrFygIs5Ml70nb%2FbgnJYPPdOz%2BtBbF4OZVL2Q%2FcwuxYvViSTh1%2FHYcYK3D3ap8nyvzZeyZ6XvAO0CQWnsNX4fatbCBaz%2BRmXiOuhoVzBnrcI6xoeNWecbApc35GC158H3ZMosWWChSoMZWx%2FfamC1E5YSkpKjFs5PTzuQzerTvmoO6t7DtkmfjPAm%2BviLHHRd4L0rPLycaIrpL8aNQO5sd4nc1mCuRH8mncST70DIl786brctGtY0vFGtYcImi51jMcKK8a7fmPwUULwbvyhnn6d%2FEyWTAa2NpvoA%2FoRsSZOGQphR2vcN9jsTOZtIQ2S9zqXXQFoaKZHilHbuauHUigNM5KA&nvMid=84689061254&catId=50001519\n",
      "삼성전자 갤럭시 Z 플립3 5G 256GB 새제품 미개봉 미개통 336,000원 https://cr.shopping.naver.com/adcr.nhn?x=E5Tqa66IBvJVu2OI02T0xP%2F%2F%2Fw%3D%3DsKnoJ3cT1xj8pWWDrXNYDoekHk%2FkopLAUXrLF%2ByEn9CXxnU0TxHELmSNRALWf%2BnovRqcZYpWF8ABRkFwvhyF6l%2FUW%2B3aNDvtKPSMuNt1cwL3%2BPIzHDaitHEIzZUy3Nppu7qtc7IxNeTA5vvD%2BkviP0ot2ZA0FpVCmeDurkYF5cmwrsB9LRUriY4ptLC3ROCQurIvFAB3xLu5xaAjmfNLZBk3LU0LbjKSbEN5LCwOQJomUJqnw5yO0Sc7HKRKrafOTMBEXv%2FUNOdDq9%2BysfMNaXt9%2BKy%2Fm0d%2BgYWHtEf61Jo4AUk0tbEb%2BPaAR8Zvsauh4%2B0Im5BtYliiBj20d%2Bdmg%2BBIz7qV0v6aFMYQf%2BWnkJt3qdi3Q%2Fm8V2A5jR123nAwZP9PfLd3JMmVmJEfgrRINvtDzd%2B4nGA2bVYRaZaDlKmrcA4mzUsj409FIO1%2BP5lBtmA4WWlSyB%2Bg1OEbGz5qtHl2wAgdAEAlkX2h2Z50UzJ1pF2RLQNiAl4CWoNeraHA7Cq1gKaQMhHL3zUDhiKFnofl5dmZ1YO%2BHbQRJ6xTec5vA0yWkcjFSoo4wehLSfJU6a1jS8Ua1hwiaLnWMxworxvxM9kX4X7FLYMSGZlJ2kFViTpz9JDG5b2ERPl6d7hMhATQoBoZyaGMgPFeI9gEXDQ1QmAmnoJRdq4K9btjkCM0%3D&nvMid=38276883071&catId=50001519\n",
      "갤럭시 Z플립3 공기계 412,800원 https://cr.shopping.naver.com/adcr.nhn?x=haYPwtWjZDm%2Fs8Mv3YiF4f%2F%2F%2Fw%3D%3DsnNCzYq5K%2F0tFmSgTERDiZq9USGnoUdN5N2tE%2FwqURW%2BWJY%2FSdiJRCRtWY8DC5v9fyCH4xg119NwGihk7ObDgui3P8AUwqXCVz6Cir7Yf3ZXWypeOOyGCRLugYcu%2FPUZfBWVPKNlCY2FwLCbmKCndDafSax%2B2uaAnMMUpoZs3v2jZl%2B5VmAuxwIu3eo3voF%2BXLISbLaDbvp4n8I3x4W97j7glmvIJkztpwOGI0s%2Br%2ByR6ECO8v5wcdW0VXje8Zik1VquSscw58Ul7yzaVtOlqK1Vd6Z%2BmZ5fvTALbBBPmfKLmnGLANk9TjQtjOEdf9xG%2FrIUgsopfGaHfXNaL1e9Kph6Wv%2BMW7DrBkixwK4GYOP4f9T9GzZE418MMq8S8Ho2fwD9MtxPTQxz6Y8CV%2FKarqEPGIP53dmaWuVXcv360oxfFeO4up%2BSW%2Bsuf8pgl5g63ckqM6j8Ilg0U9y7QqtxzIMAT3Zr3ML93liM3hCj0Sk38782eokyphGaU0%2BkssQIJsQocLEGGa0wsleHc2pFkrbOLASquvPxbiQODgP1nCzluN%2FlgYsKb0xZd74tWfk%2Fub1NmOoRBMBsXNQGXzjfbC%2BFUQB%2FrDAzm2q1KHRsHkfE%3D&nvMid=37648771870&catId=50000249\n",
      "해외삼성전자 갤럭시 Z 플립3 256GB 자급제 언락폰 449,900원 https://cr.shopping.naver.com/adcr.nhn?x=uVUshZIxtwL%2BKMh5zxgh8P%2F%2F%2Fw%3D%3Ds9Yj2ZCHuMZm9IXUXAgeJYF0prVP1ibhFGuPzCh%2BebsHxnU0TxHELmSNRALWf%2BnovNFji2VkUwmCL8YMxOX1w3%2FUW%2B3aNDvtKPSMuNt1cwL3%2BPIzHDaitHEIzZUy3Nppu4TXtqih7SmIi5Bz85QJVnbuVw3GdaDAvxDSjC3cnt2Z%2F22ms%2BW8TiQQNz%2FOHMMFFIpz2LH0OwdKsTPRNj27LVVarkrHMOfFJe8s2lbTpaitVXemfpmeX70wC2wQT5nyi5pxiwDZPU40LYzhHX%2FcRvy8Lg6Kw1OHFqvS%2F0MlpW9sJGxI%2BtdyOKNrbSx4frM0ODG4evy%2BM13j64UYOnhTyGTv7gfhReuvWC%2BZAEJqFKg56K503jBTFiO%2BslOwbxo4OyFEwXkZprSQIw9oqBAYnS%2BOnItMGSmeewyCOp6dtTz3Uidv9Kjfx6Evu%2FCk7Dzg0iWYtTRRcKCr3offR9tGLsO6PtLd%2BXzuSP%2BqiYiDvzzWPvm8H6wwJ2Ynoo8bnYXLaKYTOF5KsHq%2BigGAc1pAeZzcv%2BJjLbUquvnjimJXridG53%2Bcmbq2JfC80LayKroLOeRBBZgB%2FhGyEHERL%2FyLRGs2OqH9l6YII5ugOGfB4CYY%3D&nvMid=85164048407&catId=50001519\n",
      "삼성전자 갤럭시 Z 플립3 5G 자급제 256GB 그린 1,148,500원 https://cr.shopping.naver.com/adcr.nhn?x=Hdo6uYIPriNWPyfpTgj7CP%2F%2F%2Fw%3D%3DsjX%2FrxZZx%2FjVsu%2FPUZVWMr%2BiPwraTBXK5Hk9L4wVtQvfxnU0TxHELmSNRALWf%2BnovRYcAg%2BjpUGeJ8DWm4bT12%2FUW%2B3aNDvtKPSMuNt1cwL3%2BPIzHDaitHEIzZUy3NppuyxxveTWad0z1N8g6Hp%2FmrHzmYN%2Fcvl75AGnByk2TjWEm5OY6%2FBA05LWPXaqTF3xXF4NIqpjKIU7pmEKgKJcx1c76qMn90zU1gj5jmitPwht%2B5bpAevMirspBps6pWMKsjv4%2FfEqGS83edytXN3E7FZlOfqEWz%2B1PD90360hb4Qe2eAAL8qv8KaIJ2%2BlDoK8gX4ov2pHCB3hKJFVvVOV6cKsJF1TG8DXvuOXRWh2aiSE1QmeK3ZPITzKHcbEnR%2BI8RHr7d2U59isv9Ehero5g7aAxrHAhn%2B7v5aZTQ3fDyCl%2FlLnJwMa7Bt8R2%2FUDqQrCWia4EZvhMi6SebaKYXLoLGw64UkXxr0OfFnZsGbAfg11wOTs91lzOaXg4r1Lf1I9ToPm9cJut6uSMmE4xneoh6I3DS42Lqrx3chhULFeV8WLxYP2YLUbWMFkApIj%2B8rIP9V1DR7mNgqmT0jS3Rome3edZtZ9S318VfuywEwVl%2B7%2F302uwKsH27n00uWWq0yGjwYpjw2cDrbWY3K8FHJWfavIFzL6I7swOEpofq3q7bB01aJvBgcgsq8iJOUF7JB%2FaGimR4pR27mrh1IoDTOSgA%3D%3D&nvMid=38519031861&catId=50001519\n",
      "삼성 갤럭시Z 플립3 5G 256GB 공기계 그린 638,000원 https://cr.shopping.naver.com/adcr.nhn?x=QXBz9Ay1eEdwjPlgHKWu1f%2F%2F%2Fw%3D%3Ds6LDKhma7exMMlNZ8uA%2BI1vAA2Mi79%2FWQoh1H1iiLlJkRDCQXm2VMgUcLVmMUcHCmLV9Z0APUAuMBDnAZGS3Qf5cwToitnZe2roSZCAszXzIOI15zQhaVfT5hxvVMcrm%2FaDbNBxxCmtdJtSILgrszjcFHZ6YjirkEyx0YsOhRCZckyuYW9oo962E4ptNomafykasqj7hc%2BW48fGlse5CFcvmoPs7zXTxgIgOnd4ULJeJ6%2BNGX8wkfxh3wf9PwnefyfFHeGzZ%2F%2BmQj0NYjko1pVCzVqaQVohaLMGvfOuBzs0%2FpEXgtPA4yclXzOx%2BoNkNFMBEXv%2FUNOdDq9%2BysfMNaXt9%2BKy%2Fm0d%2BgYWHtEf61Jo4AUk0tbEb%2BPaAR8Zvsauh4Ozxm7NtXivX1gjmatGCjoVDsY%2F6Y4%2BvSHhgDP1FRvaXqdi3Q%2Fm8V2A5jR123nAwZ6Qd0byHhNX2ABbsDqzWg0pTuu%2BGueKMH2ArH0MRB8PztsqZ5A6TBY%2Fzklv03f%2FBVn2QbsgnoVxKqg%2B7biO54dBpWt4bf7qbDNZcbIIenkO8o6Xj3hLG28vHPzMHIR3Z8kuWQPhITyUfdcbw2eN55TE1w2yTZz%2F5hUJBHCf%2FjexuxChwsQYZrTCyV4dzakWStR4c7ovV00X0GBbJ641uIexf5j95OsPWUEgaOW%2BNbiuJvU2Y6hEEwGxc1AZfON9sL4VRAH%2BsMDObarUodGweR8Q%3D%3D&nvMid=36881362320&catId=50001519\n",
      "갤럭시 Z플립3 미사용 공기계 새제품 풀박스 자급제 F711 706,000원 https://cr.shopping.naver.com/adcr.nhn?x=JdOTLfIfIwrSuoamv0PsWP%2F%2F%2Fw%3D%3Ds%2BYn8dquMFFqiYWwo1YnqqCsKfRPabWkCLC3Yk0sQLbCWJY%2FSdiJRCRtWY8DC5v9f4xt7y5skrWeWC8EekyEzYy3P8AUwqXCVz6Cir7Yf3ZXWypeOOyGCRLugYcu%2FPUZfLZv14SN9nqHuVEu6XULECua0O2TX7GIDZW3de8vjU8yP4Wh7fBobUO%2B16Lal%2FvVaz%2BLLEKtatSRy0VdVPBUTqd2hasrbvazGLtCi4UVSIlOk6v2w9jBqMGR4TTsgYaQnlII%2ByYYqWVu3SSXxcjEJdCu8i3HyiereVPHlvPhasF%2Fp6CH5qalryXf9CEQePlaMgQTAaHG5egb4muwzcbROOrJz3QX5rALDkdUdZYndrvaRQcyy6HnNB8qkWbK4IKm%2FJw4AZBN7pRRu2nfvyrK4Hx5IBPdT8ApR3BBsBK6JArKw28fSsQBR7nE98NVVSOsVt6xbcjl6jwR5zX54qG3EvT5XxCJOU9VuT3%2FtAVXigzGdB%2BPDSgEh8%2B5ww8X0EMEIslIYT2rnVDW%2BeZiqT9irVppkzhGBrAIRR0a5MmtihlXKYYcSle64B5Mh5qWr6Nzx4CHPLvD6gdBSopJUag7SkZKrF1ilZutTfeLWtbrXFk1B0CIl3BeKsFF2drF%2B%2BsFv&nvMid=85379505699&catId=50000249\n",
      "삼성전자 갤럭시 Z플립3 256GB SM-F711 미사용 새제품 809,900원 https://cr.shopping.naver.com/adcr.nhn?x=mmD4IA4icHQKAtNWiH1AYP%2F%2F%2Fw%3D%3DswQLAIFbaeyCtJdHQeKfH6pqoXQgnID0FeiCgaxkenWjxnU0TxHELmSNRALWf%2BnovGxpkHARaKvDSYT6NqCekifUW%2B3aNDvtKPSMuNt1cwL3%2BPIzHDaitHEIzZUy3Nppu4TXtqih7SmIi5Bz85QJVnbuVw3GdaDAvxDSjC3cnt2Z%2F22ms%2BW8TiQQNz%2FOHMMFFvLmBGvbT8U42KxUCZO6ehFarkrHMOfFJe8s2lbTpaitVXemfpmeX70wC2wQT5nyi5pxiwDZPU40LYzhHX%2FcRv2lELrvf1ZqG0yPTN4GFGg%2BuN4IfVNm0HD%2FOiH7Ak%2FhlDG4evy%2BM13j64UYOnhTyGf2wI%2BiTi9b65faCBg%2BziVUGVJjQOIMS03m13YAnzFDQyFEwXkZprSQIw9oqBAYnS%2Fjpms%2BW2Ig8WsZMLSsaCFWjqP8mQ%2FHCQZzzKU%2BcVdj8cu7E1ptrH82ENhqKe0OeQh2hB0PvPhVNmcYc5mX2ApZF1A3USt62kiOqKDNqNM8a0W3FL7exH9SucuKnzRH6u6%2FB%2BRaN8W4vihIam7diidLm0j5p3YBEHRl9AcwiLLi254F7cdhq37D5r%2B5MwWMXz2O0QScdmj79W4Ike%2ByYeOsNUJgJp6CUXauCvW7Y5AjN&nvMid=85168644416&catId=50001519\n",
      "삼성전자 갤럭시 Z플립3 공기계 414,000원 https://cr.shopping.naver.com/adcr.nhn?x=2vs0KG7pFa6yJDexMYLQmf%2F%2F%2Fw%3D%3DsBddn8SilCubMobkMwmIxOnFP%2FqFVcljdRJkkKTpYYxGWJY%2FSdiJRCRtWY8DC5v9frxv8f0OQaBWdp%2BDtpylevS3P8AUwqXCVz6Cir7Yf3ZXWypeOOyGCRLugYcu%2FPUZfLKpgVBEa4IVreD9yzZMoLzQ55RQwPkcmmuvR%2BxOuokAoeNisgaU3DjoiBkAv1gDOPFFbwJo3NUUX8X2FvvIVxqoq2EwmjfQnpBDv279sRz%2BHyF%2FcXbPMzd3fVfyiGv39EF9T%2FdcWeROaD3boxWeJLTq5a3x%2BqYCqsO9fBAkIVV8n5BlDGrmQRCNMuxRs2GY63OcAeywDQXF%2F2%2Fhxy4476cOmY27ZGze0Q%2BtXRlM4OxtarJoVrbEtunAYIkKGowOqkX1yQHGQVLNT9%2BJLydXlCR0WlXUSDlh%2B9BVVrg0i9pSqj3Fh55Ji9dIFJLLv%2BLm7NlDlSP93TfgY2uy5k6QGss3zVaNSnElUms3mYOzPgGmjqh37o7mjhcqa6UOXaAaZxXjuLqfklvrLn%2FKYJeYOt3JKjOo%2FCJYNFPcu0KrccyDUZXsPA%2Bak0n8Hc1KfofYuol4xfyVNPELq62WoememqymEzheSrB6vooBgHNaQHmc1HP%2FWnvL%2FsGQqvVPiW8pNbgSjbcWIBDd%2BV1h5V%2FYKSRXirJ6LYs8CqG3cuZIsY6oGruH08DlKshetxY8KUEZb&nvMid=38098484430&catId=50000249\n",
      "삼성전자 갤럭시 Z플립3 공기계 404,800원 https://cr.shopping.naver.com/adcr.nhn?x=pGvAswx6nO4PK4%2But3NzBP%2F%2F%2Fw%3D%3DsXX%2Blf7cn%2FmdcsQ5ZtS2aT5nkz151%2BldcAWhLryKA0ILxnU0TxHELmSNRALWf%2BnovZb%2B%2FxECV2MbrcY5H34ha2%2FUW%2B3aNDvtKPSMuNt1cwL3%2BPIzHDaitHEIzZUy3Nppu%2F%2Fi0LbOOdvrXqi9CzhVEmoVt7HLC8Wv00PZgURHygt5elejFdkqFTSchcszRHkryuPeTdTXHuVhAicB6ZQJ8GtAdQYUHas%2BNO2tXp7KWj6NKa596KH7eMjuGma0coHvW%2FOIq6qLqW%2BXB7aAhUB%2FZQCVdN3LpKf%2FbKuiZi7z1XJTXyAM2yGi5eg7sWZ6R4sbQYatN34XevR1a9uLIsk7sA259H%2F3e3zcy0MeLsVqbBs8f8Fnl%2F4FoMY%2Blww%2B2SRMjPoVRGKE69U0rr5qui8URdshRMF5Gaa0kCMPaKgQGJ0v46ZrPltiIPFrGTC0rGghVK7scs1dY69%2BkqNHF54aobw9VAnexH0AwWJTSyR7qOcbwlXzdQC80iR4vtAbhq7MSKYTOF5KsHq%2BigGAc1pAeZxOq4bWjhvF2CWae5dOPSyPnQ3b3LnLHvgWwKJPMKoqKFeKsnotizwKobdy5kixjqgau4fTwOUqyF63FjwpQRls%3D&nvMid=37646829753&catId=50000249\n"
     ]
    },
    {
     "name": "stdout",
     "output_type": "stream",
     "text": [
      "삼성 갤럭시 Z 플립3 256GB SM-F711N 효도폰 키즈폰 업무폰 크림 303,300원 https://cr.shopping.naver.com/adcr.nhn?x=mZWO%2BADnVAS6QpBcMYtKC%2F%2F%2F%2Fw%3D%3DsGhjlxWIJ4k7rCvFgMTZHJ3XCKgFUFCvBW6hLd%2Fr3d0iWJY%2FSdiJRCRtWY8DC5v9ftI7M5VDt5CyTLSU2ZfmfZS3P8AUwqXCVz6Cir7Yf3ZXWypeOOyGCRLugYcu%2FPUZfLpCflW%2BbvDAhrSbWLZ1LOQ9S4JdloJ%2BBqm37beRLy0PIk4p7qYTTC7m2uG6Hf7HMiJ%2BNu2rf88aa0eXSLiFecHnxxzg2nH67kAMbWje4jVEkuD1RYFNSuw8mrHaPFNS3Z0HYplSZvfMNUu0Uhc37lTTq%2F5d4Eff2748I%2FAGVsxE1eM9BnXCmy4TYmKPFCIvX3OcAeywDQXF%2F2%2Fhxy4476cOmY27ZGze0Q%2BtXRlM4OxtarJoVrbEtunAYIkKGowOqPHsbQrsVQJv%2FCJ4QlzZU%2BYUGqVixlRawlOfNP3JaNpcr3wpohlrhUETRXnCpgZJOwadAiBYsXRGViforM0fFbowefsEME1qpc2agpsB5My9a5I8ge%2BCoM9%2Fw2rTXIjvFzuTU9j6YPWLgb8Gy3wfBDIHWLDHUhgKklqzj1pAwkP6vi9TyKUDLOANyPWSPOhpaCq1CasPFtNREv%2BBJBgaYoKWRfrjtl2OPD36vkxy%2Bn5rruyOel6IlueQzi0Op8c5XEYGU3nrD%2FS4OSzfpKMTlAfQjf4rJV5QK4Q2sntWyiHhGsVZDf86T6eUALLO41Wi5TBsl5xTs8gnToXbP74w2Tw4SwcLvxUEucVmH%2BcOht40%3D&nvMid=34511152839&catId=50001519\n",
      "삼성 갤럭시Z플립3 256G 미개통 새제품 미개봉 125,120원 https://cr.shopping.naver.com/adcr.nhn?x=cF%2FBA9oqoTJu73KopDB3Xf%2F%2F%2Fw%3D%3DsXVZ4ALsj5ffVKfy2%2F1g53wczIUfbWvaG5oZp%2B8d8AMjNaYL3qY1%2FF455LXXi5iUx4UGVzs7%2B6YXXaFMomonxMZcwToitnZe2roSZCAszXzIOI15zQhaVfT5hxvVMcrm%2FZkmY%2FqHs0FHAjrFH9911NI41FVW4KFopfFaQ9bivvWhqzBXWPbtXf%2Bl9pVE572w%2Bb0Q1lRjzr%2Bq1QFFkyDDsUS21Eq0xz5tZ9ifGNyz5rE8wERe%2F9Q050Or37Kx8w1pe334rL%2BbR36BhYe0R%2FrUmjgBSTS1sRv49oBHxm%2Bxq6HiXylnbjWnFSSvuwq9xu7p8wd8LzN6FKnQvbTXFZn%2FY2eH3cLmLhVrEvdTfhTTZtWEqAKlS2gbBblx8ER6lBJ51FCJLeTNMiIpdd72TMnUFR9YhqoZBMIgSRjHu5GEvIsZ1RH%2B6v7Q1eFb%2F%2FfUV2ZQW%2Ff8Zh3BCNEt6BkpSd2l%2F5kVb5dGc29TUlDwqe1c2tvpAtOEOdL%2Flw79wYfLXH%2FkLEC8iHl2JMhqFZm1pmaUSQ2tY0vFGtYcImi51jMcKK8abRfRfS2jyQ6nVxIjGjXFj%2F3BYG3vYfs%2BDrFcSwXIVA5y8sARekz3cqx4uaUskJFYNUJgJp6CUXauCvW7Y5AjN&nvMid=38037457547&catId=50000249\n",
      "SK기변 갤럭시 Z플립3 5G SM F711N 공시지원 선택요금제적용 - 완납개통 Z플립폰 100원 https://cr.shopping.naver.com/adcr.nhn?x=l1STt1KUASTe7SojcZeusP%2F%2F%2Fw%3D%3Dsyh0WecuF9E9PHCgULuulmtTgP6yvX2QYRwSakh7cpRnxnU0TxHELmSNRALWf%2BnovNiZCQoqxo04TRrzuAWvZ0vUW%2B3aNDvtKPSMuNt1cwL3%2BPIzHDaitHEIzZUy3NppuJ9YrsATw%2BNDJBiFnPVKMkgrr5JvRLw6bsmImN77D8LJ9Tf1GH8kc6UhbhNDF0oKsMboPTAuB%2Fh0eq5O5fXW0HSJ8Tpn2IrLokxfbwMenFD33AKM261aLR7%2B0kV%2BmsuDCwc%2B%2FjkR2vl%2B%2B%2B%2F%2BVPNlrhUQ6cpKTqlmYGalnAZlcEQ0P1keV3tAvVGbl%2FwjUXRVgBc6VzoBbd39LnwSvQqDnmGCetbmGrokTfUrm1Q%2BWoDY89TxYrdRpW2slzBLjPFLonAmuViUSm0qe10gRotU2%2FGzcSxmignqbT4rj3VMGmh5Q6neEyBvG0EdyvOKhnpQFEcKy9zj81zWQdv47GAvihwyIH9JbLrlNaygLSISWCpDjF86CvLlC4vwLn%2BiU7Y6ZKpY6dzv98MjsR6zVPTr13QypJYaWzHDxm6qiE1dNhf%2FW2uCYcYcu%2B046TNeHNgqMa1jS8Ua1hwiaLnWMxworxq6Zlyia8Sq%2B7XcJ4W%2BNBErp1a1vZJ7enqKBitlwi2h386euOFlqYxGW3xtmz76xsQ1QmAmnoJRdq4K9btjkCM0%3D&nvMid=22930837377&catId=50000246\n",
      "갤럭시 Z 플립3 5G 256GB 미개봉 자급제 SM-F711N 967,680원 https://cr.shopping.naver.com/adcr.nhn?x=lYAaEvP%2BcwhWirqXUmnCQP%2F%2F%2Fw%3D%3Dsg3r4yetasHZDfiiGIhmstjaE5%2BPCeCf%2FuKU9M20bZjwRDCQXm2VMgUcLVmMUcHCm7rCsowaazjvpkIPK4GFerJcwToitnZe2roSZCAszXzIOI15zQhaVfT5hxvVMcrm%2F%2FW1RdxWUjGVjQ8mV8rsnnpa8Y%2F0nv2J2yLTL2oF5KlLetFQ%2BYJeyia44ZuCKxz%2BmEB%2BQCd6PXMdIAPQyqip1UOq7rYp%2Fjr4tYX%2FHHCdiW7IkL7eUT2YZ%2BmlXSIEwdFpgzULnSY1iH9itOR2HaPGkmsv%2BjB2erv%2BZ%2Brrs5VHOiTRLlIk0uAh1LVcUK1nkYRMYPCj%2Fja2hhmJdxRNk9%2F4EWaCYt3peGpfZNJbFyp2KuqwbV9SohnsJOp40F4RSK4iNWqahyI7jgzH0aH7zuWUk6M3zVaNSnElUms3mYOzPgGloFJSuf%2Br3auvM347ORz1sKqLMrPDLvuUjVwrzlvXBi6x6ZRnNdiCeBECNW20D7J%2FFxT%2Bo9WaZBWhSZrC7jic%2Fd3p0KQoLjn691NCK%2FNzIEUkMsXiWKicaT12ijr7DoHmxChwsQYZrTCyV4dzakWStb%2BULOFBw%2BNoX7geucYER7BGt4lGMFLObLd620l6IE8ZvU2Y6hEEwGxc1AZfON9sL4VRAH%2BsMDObarUodGweR8Q%3D%3D&nvMid=38150859118&catId=50001519\n",
      "삼성 갤럭시 Z플립3 5G 256GB 정품 자급제 SM-F711 580,000원 https://cr.shopping.naver.com/adcr.nhn?x=64KJR2BuUTfC7C26%2FqNMFP%2F%2F%2Fw%3D%3Ds9Gz%2F%2FbgXRoW%2BjNykDyV9O0F5p0NmvewfHRQi8aS7pzsRDCQXm2VMgUcLVmMUcHCmNpLF22HFR1zz3ggCMg4G8ZcwToitnZe2roSZCAszXzIOI15zQhaVfT5hxvVMcrm%2FgqIA2D0hgVBETid7ww80oLzg5LotibZWs96FaOW7%2BneOP0oYFbr1kQPfR4PYNcaQWCwYNIYb6g8JwSHZQCJynx0oHzKxfPRn3Iy%2F5Nqo25%2B54J8UO7LDGXdPU9Do8oyMXmq0wb8nQ9S1CNyVqQgAyN6y25JMIzdXhXnnoOvsBy7XGuokcGNye0MhW86KwBzwvX82Y5Ils9cLeBDu1LyZB%2BKvV3WybXgZFdErKHynqUEUIkt5M0yIil13vZMydQVHB59lz%2Fii9l1xbSjb1LFjTMZAdK5k7BXoyhvbBHtMtP5%2FY%2FHrjYmT37n9gcvjg%2F8pjodX2Xznje04pEIdWk5BghG8KLTOxwY47qRWrhDBVq8Jb7edVc8M%2BOS9xX%2BOQQyFsQocLEGGa0wsleHc2pFkreGVPF0idVcmtlpMPTgLe28kIMWlykvV7YTMXYcV7U%2FWD%2FopY%2F1IC1wsZh77ecdw9MtVYavx%2B%2B8fWZa9SBc8rqM%3D&nvMid=85728399128&catId=50001519\n",
      "[삼성전자] 갤럭시 Z 플립3 256GB - 완납폰 598,600원 https://cr.shopping.naver.com/adcr.nhn?x=MtrCUMpghssdV1fFk1%2BWuv%2F%2F%2Fw%3D%3Ds9RlS2h2xu9WiFbffvNh9%2BfZz6%2FHJCLZFs6odFvArik8RDCQXm2VMgUcLVmMUcHCmdpk2xKufPsHrT%2FrghdEEZpcwToitnZe2roSZCAszXzIOI15zQhaVfT5hxvVMcrm%2F6%2BqGbzUPWQMLr%2B9pFAXrw44ijzl%2FIClAtGZp0Sb9iuExST9w6hLJFSIYg2S6xuZF9594DMpBmTiTp9JSDpnnqmSQqDISggBO7uetfYWqMoirilkDeG%2B1rLU11UaeFf3disext5K2yYkF868rsMDqiTMdWE%2BWGGV8JeYQXD1fid68uGpr7nvJPhbY%2BSjBHgtdx72P1MzfeDsyK%2BcBtz34gMGUcEzzhGsQ5lBqLhNcvjxOHbPzCWy67OfV4cPawOGNVbYu1MT1tGEBPmaySeEblCw525%2FNUAdKJ3XB4Y4NreYGGhe8p66GGk7JZo1wbVpmtzyzbIhih9957Wmq5jFmx89kM7%2BHgDOM5u9PA%2Bws29q9hJDOhm%2FFU8wMVZ5Hjky3a1jS8Ua1hwiaLnWMxworxkkTVYbIk%2BU5pMTOfj5%2BewcHi5n07u6sP3Xxp53QbV1AATQoBoZyaGMgPFeI9gEXDQ1QmAmnoJRdq4K9btjkCM0%3D&nvMid=33526028124&catId=50001519\n",
      "갤럭시 Z플립3 256GB 미사용 공기계 새제품 풀박스 자급제 688,200원 https://cr.shopping.naver.com/adcr.nhn?x=He7lhITyJI8t1kP%2Bguu5Pf%2F%2F%2Fw%3D%3DsLXlK%2F%2FpBETD0%2F0nTZT8L4kQ8uyhrxxiEOycBVChu%2FWvNaYL3qY1%2FF455LXXi5iUx3jKIWzbmaJ3rsGV0OCMHgpcwToitnZe2roSZCAszXzIOI15zQhaVfT5hxvVMcrm%2FZkmY%2FqHs0FHAjrFH9911NI41FVW4KFopfFaQ9bivvWhqzBXWPbtXf%2Bl9pVE572w%2BQGPbT4K6%2Bi0lHvsGQqrm7K9COMvOZlkVPO7ru2NtaSMwERe%2F9Q050Or37Kx8w1pe334rL%2BbR36BhYe0R%2FrUmjgBSTS1sRv49oBHxm%2Bxq6HjFyA0ITn52KWYA5LdFHuMymcW02wZ%2FIK%2Fo5cLbV4Lxc%2BH3cLmLhVrEvdTfhTTZtWFFqcXxgww3CAqtR3CWTXQ56floCxr2YmZB5oDn58Og6GeMP7QoFx7iq9WC01gHk8btOUlEERqDGuSU1gZgL1pFgV%2F%2FHfTg7mzVBlWYRvjPfXG9P47M09KT5R7OlIAOyGsFMV6eTTV77M0bC0WYk06qlonnctIUR8uMYQC6tUGwiq3otdWachyksqor%2FXnHLFQphM4Xkqwer6KAYBzWkB5n%2FtUyppgccKUBBfhOpuTORvxOBwD3WHuQq4kX%2BmrbWdM2zg262pFeLGYT7ARfRQitBq7h9PA5SrIXrcWPClBGWw%3D%3D&nvMid=36858310832&catId=50000249\n",
      "[SKT 기기변경] 갤럭시 Z 플립3 256G 공시지원금 완납폰 24,250원 https://cr.shopping.naver.com/adcr.nhn?x=4VI13TsUaOMB24a3jQPbXP%2F%2F%2Fw%3D%3DsZy%2FXXLWKUUNrL3mZ03AMmL%2B7UtnT6B7P5mMo0kYLogrxnU0TxHELmSNRALWf%2BnovH2qw0DpmRCqVpP6EtdwH9vUW%2B3aNDvtKPSMuNt1cwL3%2BPIzHDaitHEIzZUy3NppuJ9YrsATw%2BNDJBiFnPVKMkj4X%2FMOBzrhC5G4mTiyCCYa8b2GJXKCmb6euH6loXMaaGkWSRWGh9FoMpBjyFHlSpginY6%2BQrAA5RdHQ46ujGNBCz4%2F64xZ3yyKA7bm0PxSkRS8PGR7BXWLuitV8QARI1lGB%2BAjG%2F9HcSA5%2B4ihG9YtZE5DOdSobkavTXOFcRtbo4OdAXhx9IyKw20RQIRTRcn%2B0gaoX1qy2%2Bj6AP2CiyItvmoQEf4if8RwuslwccYt5Q%2BD%2Fo9glb0ukJK6bM8miKArsK1DNlYuW6vX8WB7j4SlYKXPI4Vrmul1eIT8REAxrOxr9UcY%2FVE0MJQsCE4IBSFw1k3kUXjomqDt8NY2PkJpyoFtXSaw4Vsws3mHcBI1GHkM%2FJvOgnJiSAVcJ3uo6TmNiDiX48bsRdtGE%2FyQNEmCxKxwn4VUWJqU%2BaIY%2BjUSAvy9C3tUSNUmY91DoN3CNPs9I2hVjUqp5JeZKU1HjFP8cYg6BTvW9D%2B5TWgRZxd6seqbhuaGjmnTc3KMZ3Foppw8G29BVlo1y5DbT3HC5A%2F5rWNLxRrWHCJoudYzHCivGp%2FEXBmD3hMP%2Fbc%2BxPoUqfgKRSMjZUvUCdZp4aq4Ghw8BNCgGhnJoYyA8V4j2ARcNDVCYCaeglF2rgr1u2OQIzQ%3D%3D&nvMid=36722939180&catId=50000246\n",
      "갤럭시 Z플립3 자급제 미개봉 새상품 947,670원 https://cr.shopping.naver.com/adcr.nhn?x=Qo0P2Eg9y6mxbHK36ar%2BMf%2F%2F%2Fw%3D%3DsLIvuOwRNEOQ%2FVh1DWGtx2fAfOr%2BXBaHa1wdT9itKQNERDCQXm2VMgUcLVmMUcHCmieY6B1jWUyWT90TIMc5GopcwToitnZe2roSZCAszXzIOI15zQhaVfT5hxvVMcrm%2FZkmY%2FqHs0FHAjrFH9911NI41FVW4KFopfFaQ9bivvWhqzBXWPbtXf%2Bl9pVE572w%2B5fioqrpmxLqaMkZDIfFgNCgiPJM9JW%2Fr0MErN4nAONFvmoQEf4if8RwuslwccYt5Q%2BD%2Fo9glb0ukJK6bM8miKArsK1DNlYuW6vX8WB7j4SmYYKuIQ05iGL5Cf34Lot57rMJZH4WvgNNYdlhJGBq2lP9F%2FIBQQYa%2Bq5505OTatqzIAPF3wK7ah14L5cKibYivQ8Yg%2Fnd2Zpa5Vdy%2FfrSjF8V47i6n5Jb6y5%2FymCXmDrc4%2FoZyQg%2FnzS%2F66jycaB7Iq4S2UyYSnSQlj7JTM4AbZAvqet95udyQkKqCpL%2FVSciMtCeKQQUNM7FU0qrS88HaNiFgIp6Q8IO9tMwX%2FAlClzYe6jcXXp8ADTADpvqeEjJwnUzNQjDinxQGOO68Ekf6%2BRWQGDQpryRCHjPf5kZAuh0cjwVm1BUYVknE7IEMpz4%3D&nvMid=34115634635&catId=50001519\n",
      "삼성전자 갤럭시 Z 플립3 5G 자급제 256GB 라벤더 1,322,720원 https://cr.shopping.naver.com/adcr.nhn?x=n47qg1SI3I7Gm%2BCNFUtoXf%2F%2F%2Fw%3D%3DsEMZEqPsXDWYet4cGnxv%2BWVw%2BzX%2Fp8ue0Fuc9kmz%2FEP0RDCQXm2VMgUcLVmMUcHCm8sbkCk35LRgSGR47kdnrYpcwToitnZe2roSZCAszXzIOI15zQhaVfT5hxvVMcrm%2FaDbNBxxCmtdJtSILgrszjcFHZ6YjirkEyx0YsOhRCZckyuYW9oo962E4ptNomafysAFueCVLkAENiAvUFElFKpUBeJz%2BxIJtqhtLp7rAOwGC%2Bdu3nDxbxBthvLQLctVLdd8txY30WmIy7JfHBuX6gfm64vWtE3rb%2F1LSr0DLZfx8Yty9HOMY0RNAhShgGoL3MBEXv%2FUNOdDq9%2BysfMNaXt9%2BKy%2Fm0d%2BgYWHtEf61Jo4AUk0tbEb%2BPaAR8Zvsauh4R14J%2F9Vn15bAe3zSe0bKwh1Uv55Z1PO1ukUz1q9F7Zvqdi3Q%2Fm8V2A5jR123nAwZjUPKuGHk8%2F5Yo4k5%2BRqBhf5wFXewsXJeHYVgDqYdYWfcA4mzUsj409FIO1%2BP5lBtmA4WWlSyB%2Bg1OEbGz5qtHooJSMRoQLjFmLh5z%2FBOkj3MlWSBxzXt0rXdVYLrHT4PTmedjIKzmueLvFFsiJj%2F%2Bb2YBWDFfHmcD8Y2tAFsPvCpEaF8u4uv5QWrNdq6X%2BRffAl5dudTqZlos35c9ihFnHBO0sjV%2B6bXVw9YLm6FkJ9oNE985Ym6BRCrHy3X7xkNxyAhEKTy%2B0Zvtn8oYxIR0Q%3D%3D&nvMid=38642111829&catId=50001519\n",
      "갤럭시 Z 플립3 5G 256GB 자급제 SM-F711 (새제품) 1,152,000원 https://cr.shopping.naver.com/adcr.nhn?x=Nwn3tcQd3CecX2n9TEHIE%2F%2F%2F%2Fw%3D%3DsqNHcPf6fBaYpeEjFyXFGXScekRW9e%2BqeE52sPAb0Z9DxnU0TxHELmSNRALWf%2BnovI5JT2V22CfUxoVMoUs%2BY3%2FUW%2B3aNDvtKPSMuNt1cwL3%2BPIzHDaitHEIzZUy3Nppu7qtc7IxNeTA5vvD%2BkviP0ot2ZA0FpVCmeDurkYF5cmwrsB9LRUriY4ptLC3ROCQurIvFAB3xLu5xaAjmfNLZBizeSSVGONyDX87BegtMR%2FNlVqv%2FlTI2k3kFIwUBhUXnMBEXv%2FUNOdDq9%2BysfMNaXt9%2BKy%2Fm0d%2BgYWHtEf61Jo4AUk0tbEb%2BPaAR8Zvsauh49Q3bfhCsot6Qwthcl6tWmTJTzLR3FQZLWr1jwHln4LHqdi3Q%2Fm8V2A5jR123nAwZTC8KmJDLE0g85dnN2ta3Uo9aPh97gspfNPajBekqwJYvy8QBVSJDiMdM%2BIVQ5OSZhfrRTEGJHFgPgTqYBJDvePYebihDXmgaEjGPwCvgS9ENxS1z5y2ZEL92EDOk1C%2FSC%2Bp633m53JCQqoKkv9VJyDTBhxMAQPHR5ohrt6Twyt6jrgWQ%2F0JBsjHud4pzo5y1yDD28CB6RcK%2FBpcA2LJRkael8mnX1f%2BuWjNJjGgLJrccpUVOn%2FkBBau9B1fkgsrsgqgOvq6z5EpEI5N2xav1Mg%3D%3D&nvMid=37446107813&catId=50001519\n"
     ]
    },
    {
     "name": "stdout",
     "output_type": "stream",
     "text": [
      "갤럭시 Z플립3 256GB SM-F711 유심기변 자급제 공기계 947,600원 https://cr.shopping.naver.com/adcr.nhn?x=9t%2BXDGhDh1tuB7omMQPldv%2F%2F%2Fw%3D%3Ds3%2F2lqvbtutB%2B8Zb7Q7%2Bd9UhVLB9NwjgNHOaDyEKVYB%2FNaYL3qY1%2FF455LXXi5iUx6wT808%2FRHI00JpjNH4kwUpcwToitnZe2roSZCAszXzIOI15zQhaVfT5hxvVMcrm%2FZkmY%2FqHs0FHAjrFH9911NI41FVW4KFopfFaQ9bivvWhqzBXWPbtXf%2Bl9pVE572w%2B8H0F%2BvGQ%2FxQcfAS%2BCC%2FU4wbos2EpnaXQLC5jNlb7RvlvmoQEf4if8RwuslwccYt5Q%2BD%2Fo9glb0ukJK6bM8miKArsK1DNlYuW6vX8WB7j4SlJPTeQ5BuGX7CX3FReZxG6XnrHA%2Fb5aFYdhqfGiPt%2FgQVBqrDfpkSQP2XLHxiHJ0lj7kiEwVMtN5NhZt7%2BcW9iQ8Yg%2Fnd2Zpa5Vdy%2FfrSjF8V47i6n5Jb6y5%2FymCXmDrfPHrUdvch06rDdV8lgBcXrJOq6MuyzH5d4vjMIhYAJzEo86qBZW8uC8vQSstBea0WlkX647Zdjjw9%2Br5Mcvp%2Bayh7fxHtQ9HjNK86OmY6jg6OuBZD%2FQkGyMe53inOjnLV8FZ7Dsr42BPOh%2BTnG5qZTdYHazbgYbYIFAQaheqWbKStexxrNPpQu7Y538rvgyICCqA6%2BrrPkSkQjk3bFq%2FUy&nvMid=36798163985&catId=50001519\n",
      "삼성전자 갤럭시 Z플립3 KT공식몰 136,000원 https://cr.shopping.naver.com/adcr.nhn?x=0A7yYSlEjG549L9zEZFQ4%2F%2F%2F%2Fw%3D%3Dsot142tsmd4UNql2i4Dv6gN0w9mbHZlFrqdvI5djgGjwRDCQXm2VMgUcLVmMUcHCmezXQP1Z6exc%2FKhf40c0465cwToitnZe2roSZCAszXzIOI15zQhaVfT5hxvVMcrm%2F%2FW1RdxWUjGVjQ8mV8rsnnieAaTNVwNXMGpb7%2FpGYkkoXtb%2F3LCNv9NymwQsWf9inCGNi0gzHa56gs3A63jtpTPyyA6%2FNm2jwtYehwlIZ9NKrCRdUxvA177jl0VodmokhNUJnit2TyE8yh3GxJ0fiPKsdthHnQ4l0pDArJWFIY2hByN4GKppvN0l%2B0EkwE9soV36ogsAbT2GMBHUreotiQJiwDXLC12ElGzW0Fh44m%2F8ii7C11Rd6zw%2BtAyVmW4MznIwiwO%2B3x3UVnqpeYIIXxCeMOCS712Qxk51sae0PxlQLTgkgUk02lOrmoUzkamxvPY8CNtOyUTFmaKjkkRmidX8fETt7m4OBxvTRtQ99TNY81Gi44tUFH1uRUKbnASPQhgL9sQPcYLlZAiSaaH3d7tiJ7uz8hcw1GM3cEvJJIqGsTyIHrTEHszyaiz2iwwJNDhLBwu%2FFQS5xWYf5w6G3jQ%3D%3D&nvMid=28693851357&catId=50000247\n",
      "갤럭시 GS 삼성전자 갤럭시 Z 플립3 256GB (자급제)크림 1,049,000원 https://cr.shopping.naver.com/adcr.nhn?x=2FRyRFFlPYoEQ2I9NDeISv%2F%2F%2Fw%3D%3Ds2zKh09V6qdMPkOQJRhCxYb01TERqja59EckmYRO9sMzxnU0TxHELmSNRALWf%2BnovNb8So%2Fi3RcBXCzGgFlyzf%2FUW%2B3aNDvtKPSMuNt1cwL3%2BPIzHDaitHEIzZUy3NppufZqkw4lvvOH5RV6o5DgHm5xspcflZYjogUa%2BtzON8Ln2UH1RiEW6vY1FWnWOVWrQtSU9F25MSvWfXgFaWoKzwaWseaXG3MFLa37M8dVEVTSwmaCWFEKJYEemo6guUg1Ka%2BpHa6ewb0%2FDpcGez9%2B2Mmaf7oVVn%2BbTDsruUdhAA7skb4nL7RV1WOWyih%2BclpzvhqQvwmR%2FqlT0jQuNbOPrwlchqR1WxMF5P67InbJVfNEoG0dXraw6kE2r1kiPBxZ51wPBwUoutx4f8KaGgKF6eYYfNicf7Hle6v0xS79PyeROg%2Bb1wm63q5IyYTjGd6iH5N6Tx8UW4z4u%2FvuJoUusM2kEixatcT%2FeepqMCRnGKfYL6nrfebnckJCqgqS%2F1UnI5SZQzEkOMXRdsw1rVNQglaOuBZD%2FQkGyMe53inOjnLVQv8twsLj143wMBYbD5whFBhlRUDv%2FDuC90JvX7DMSpBylRU6f%2BQEFq70HV%2BSCyuyCqA6%2BrrPkSkQjk3bFq%2FUy&nvMid=37275913973&catId=50001519\n",
      "삼성전자 갤럭시 Z 플립3 256GB SM-F711N 효도폰 키즈폰 폴더블폰 296,000원 https://cr.shopping.naver.com/adcr.nhn?x=%2Bkmg4owHoZ%2BmCpL0fujDh%2F%2F%2F%2Fw%3D%3DseddUJsg76%2FqECzAzbDjGEy1g23NAX2VvuGpezHoP6bWWJY%2FSdiJRCRtWY8DC5v9fUxLJr2Qi29OwKbi%2BhCYJpy3P8AUwqXCVz6Cir7Yf3ZXWypeOOyGCRLugYcu%2FPUZfOH27xorNRo5H3FI%2FzQZg9ESmp7Q8wdkLPOCueq3dcYrHY2FqhFuyNB2JnogfoG85AuCKDcIP1xe%2Bw7zoUEmgkHIn5UwRuYNSBjgwEL0UOYXNQudJjWIf2K05HYdo8aSay%2F6MHZ6u%2F5n6uuzlUc6JNEuUiTS4CHUtVxQrWeRhExgpOwHwjvAgrUy6k%2FKjuYV5Ni3x1AD9yQxqM2DnQ9IA%2FmxeDmVS9kP3MLsWL1Ykk4cWlODQkRA57vUPxfeK8Pdil7wDtAkFp7DV%2BH2rWwgWs%2FkZl4jroaFcwZ63COsaHjVrM7LGX9oOI7IKjnoflMujSAI6PAHWL%2B8RvHD0KpjDBXdJLHQRMt%2Bl5Ukj5JNdK69fFeKlkEEAcLuUDYYPcX0X0FPEqxWwSh9MfFV2TNU%2Bb50ftjmfbaLWuDkYGZMF3svTn%2BIvcxawVxNuePP9ktet0XCUWOIxU6C9TWwWEayUIiDnnNBeVoiJQFZHMfGlex%2BXSgDg8CKTNEQKDSCildyjQdAiJdwXirBRdnaxfvrBbw%3D%3D&nvMid=35763584297&catId=50001519\n",
      "갤럭시 Z 플립3 미개통 미개봉 새상품 127,880원 https://cr.shopping.naver.com/adcr.nhn?x=wO6WFfq8gn%2BmD19HcT0ryf%2F%2F%2Fw%3D%3DsRn7hOW5rSuqQelXiDe5Mqj6BARxQYTLSpUreEsWKZRHxnU0TxHELmSNRALWf%2BnovkQWbRThzITHXkC8IGiDH9PUW%2B3aNDvtKPSMuNt1cwL3%2BPIzHDaitHEIzZUy3Nppu%2F%2Fi0LbOOdvrXqi9CzhVEmoVt7HLC8Wv00PZgURHygt5elejFdkqFTSchcszRHkryfyXP%2B1yaq8SRZ330KvNqep6l%2Be6Qro2MJUEf%2BjfyU0G8kabI6ilMlZV66Etr3SOtqwkXVMbwNe%2B45dFaHZqJITVCZ4rdk8hPModxsSdH4jzGkytPXVsCjxtSoYMZEx09mFrNCict9w53Rg8gSRJbrKqPcWHnkmL10gUksu%2F4ubvdSaaL7nhoLstT%2FPE2Pf1LzfNVo1KcSVSazeZg7M%2BAaWgUlK5%2F6vdq68zfjs5HPWxo%2FCu0lfcc9nKnjsAXw22eInDFqRMdWMSArn7j%2FXtWXz9CVE6LkeF1XmzG7sHsPnfraLX3obxJImx6mraWLIggTk6gMpZcQ3JEipWeARfdGBohtPjA9PZFWriSd2EhWtTmYdheC0BaDwW6iuKIQpSX8%2BJ814%2Fw1PUDKLAQiNnfu8tVYavx%2B%2B8fWZa9SBc8rqM%3D&nvMid=32635209238&catId=50000249\n",
      "[리뉴드 삼성갤럭시 Z플립3] 삼성 갤럭시 Z플립3 크림 Galaxy Z Flip3 Cream 753,000원 https://cr.shopping.naver.com/adcr.nhn?x=scMGz%2BLIsm9iOD2IpVuqoP%2F%2F%2Fw%3D%3DsfrwHainXb8PfiIP1cqe5TolO%2BeOvuX3QeLCDmcWGjngRDCQXm2VMgUcLVmMUcHCmRP5dYnqAKkcbXCm2umFBzJcwToitnZe2roSZCAszXzIOI15zQhaVfT5hxvVMcrm%2FgqIA2D0hgVBETid7ww80oLzg5LotibZWs96FaOW7%2BneOP0oYFbr1kQPfR4PYNcaQKyuHPu98%2FlFpeOHkQrW9DR0oHzKxfPRn3Iy%2F5Nqo25%2B54J8UO7LDGXdPU9Do8oyMXmq0wb8nQ9S1CNyVqQgAyBmIF92erjt9o1JZR5biXR1Ibz0OgvK7Ao1qZi84nzE0vX82Y5Ils9cLeBDu1LyZB6AWbfY38ifbEeocYxmQ7igVlyFDCq%2BZVFE5vJHx3cUBHXd3%2FioBQ7y3tRY8wAmTHlaUQEVlZ1fnJNkpa0jmTTWIxhd4plJU%2BYCVbUkeK92V33DO1XnH7UoyAGZmEaoUG9Bp%2FnHsUV0gYK2D9RI2X2KAeYk3Y87vZAjqfh1FPg1li32M5KdFxMLbLMju4tbanckaSwHBDQs7I%2FPXMDRGXc90fSDbPWacYjnpFef5GzFxkW0ZOMJMOJ8mJ5YH9Y1WlCkSfxh1k6t3FUsb%2Fg6vldS1Ofqy%2B%2FCx%2FC%2BxhYf0a7dBhWw3%2BIByOa0jCVNQVnCDoA%3D%3D&nvMid=85516139261&catId=50001519\n"
     ]
    }
   ],
   "source": [
    "from selenium import webdriver\n",
    "from selenium.webdriver.common.keys import Keys\n",
    "from selenium.webdriver.common.by import By\n",
    "import time\n",
    "import csv\n",
    "\n",
    "# 웹사이트 열기\n",
    "browser = webdriver.Chrome('C:/chromedriver.exe')\n",
    "browser.get('https://www.naver.com')\n",
    "browser.implicitly_wait(10)\n",
    "\n",
    "#검색창 클릭\n",
    "browser.find_element(By.CSS_SELECTOR, 'a.nav.shop').click()\n",
    "search = browser.find_element(By.CSS_SELECTOR, 'input._searchInput_search_text_3CUDs')\n",
    "search.click()\n",
    "\n",
    "search.send_keys('z플립3')\n",
    "search.send_keys(Keys.ENTER)\n",
    "\n",
    "#스크롤 내리기\n",
    "before_h = browser.execute_script(\"return window.scrollY\")\n",
    "\n",
    "while True:\n",
    "    browser.find_element(By.CSS_SELECTOR, 'body').send_keys(Keys.END)\n",
    "    \n",
    "    time.sleep(2)\n",
    "    \n",
    "    after_h = browser.execute_script(\"return window.scrollY\")\n",
    "    \n",
    "    if after_h == before_h:\n",
    "        break\n",
    "    before_h = after_h\n",
    "\n",
    "f = open (r\"C:\\Users\\user\\Desktop\\3학년 1학기\\오픈소스\\data.csv\",'w', encoding='CP949', newline='')\n",
    "csvWriter = csv.writer(f)\n",
    "    \n",
    "#상품 정보 div\n",
    "items = browser.find_elements(By.CSS_SELECTOR, '.basicList_info_area__TWvzp')\n",
    "\n",
    "for item in items:\n",
    "    name = item.find_element(By.CSS_SELECTOR, '.basicList_title__VfX3c').text\n",
    "    price = item.find_element(By.CSS_SELECTOR, '.price_num__S2p_v').text\n",
    "    link = item.find_element(By.CSS_SELECTOR, '.basicList_title__VfX3c > a').get_attribute('href')\n",
    "    print(name, price, link)\n",
    "    \n",
    "    csvWriter.writerow([name, price, link])\n",
    "    \n",
    "f.close()\n"
   ]
  },
  {
   "cell_type": "code",
   "execution_count": 29,
   "id": "f6a4eae0",
   "metadata": {},
   "outputs": [
    {
     "name": "stdout",
     "output_type": "stream",
     "text": [
      "1\n"
     ]
    }
   ],
   "source": []
  },
  {
   "cell_type": "code",
   "execution_count": null,
   "id": "ac3bee41",
   "metadata": {},
   "outputs": [],
   "source": []
  }
 ],
 "metadata": {
  "kernelspec": {
   "display_name": "Python 3 (ipykernel)",
   "language": "python",
   "name": "python3"
  },
  "language_info": {
   "codemirror_mode": {
    "name": "ipython",
    "version": 3
   },
   "file_extension": ".py",
   "mimetype": "text/x-python",
   "name": "python",
   "nbconvert_exporter": "python",
   "pygments_lexer": "ipython3",
   "version": "3.9.13"
  }
 },
 "nbformat": 4,
 "nbformat_minor": 5
}
